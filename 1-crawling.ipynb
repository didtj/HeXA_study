{
 "cells": [
  {
   "attachments": {},
   "cell_type": "markdown",
   "metadata": {},
   "source": [
    "# 1. 반복문, if"
   ]
  },
  {
   "cell_type": "code",
   "execution_count": 4,
   "metadata": {},
   "outputs": [
    {
     "name": "stdout",
     "output_type": "stream",
     "text": [
      "a is not 1 or 2\n"
     ]
    }
   ],
   "source": [
    "a = 3\n",
    "if a==1:\n",
    "    print(\"a is 1\")\n",
    "elif a==2:\n",
    "    print(\"a is 2\")\n",
    "else:\n",
    "    print(\"a is not 1 or 2\")"
   ]
  },
  {
   "cell_type": "code",
   "execution_count": 6,
   "metadata": {},
   "outputs": [
    {
     "name": "stdout",
     "output_type": "stream",
     "text": [
      "s\n",
      "t\n",
      "a\n",
      "r\n"
     ]
    }
   ],
   "source": [
    "temp = [0,1,2,3,4]\n",
    "for i in temp:\n",
    "    print(i)"
   ]
  },
  {
   "cell_type": "code",
   "execution_count": 7,
   "metadata": {},
   "outputs": [
    {
     "name": "stdout",
     "output_type": "stream",
     "text": [
      "0\n",
      "1\n",
      "2\n",
      "3\n",
      "4\n"
     ]
    }
   ],
   "source": [
    "for i in range(5):\n",
    "    print(i)"
   ]
  },
  {
   "cell_type": "code",
   "execution_count": 8,
   "metadata": {},
   "outputs": [
    {
     "name": "stdout",
     "output_type": "stream",
     "text": [
      "0\n",
      "1\n",
      "2\n",
      "3\n",
      "4\n"
     ]
    }
   ],
   "source": [
    "temp = 0\n",
    "while temp<5:\n",
    "    print(temp)\n",
    "    temp += 1"
   ]
  },
  {
   "attachments": {},
   "cell_type": "markdown",
   "metadata": {},
   "source": [
    "break & continue"
   ]
  },
  {
   "cell_type": "code",
   "execution_count": 9,
   "metadata": {},
   "outputs": [
    {
     "name": "stdout",
     "output_type": "stream",
     "text": [
      "0\n",
      "1\n",
      "2\n",
      "3\n",
      "4\n"
     ]
    }
   ],
   "source": [
    "temp = 0\n",
    "while True:\n",
    "    print(temp)\n",
    "    temp += 1\n",
    "    if temp >= 5:\n",
    "        break\n",
    "# 해당하는 반복문을 끝낸다"
   ]
  },
  {
   "cell_type": "code",
   "execution_count": 40,
   "metadata": {},
   "outputs": [
    {
     "name": "stdout",
     "output_type": "stream",
     "text": [
      "1\n",
      "ready\n",
      "3\n",
      "4\n"
     ]
    }
   ],
   "source": [
    "for i in range(1, 5):\n",
    "    if i == 2:\n",
    "        print(\"ready\")\n",
    "        continue\n",
    "        print(\"go\")\n",
    "    print(i)\n",
    "# continue가 들어오면 바로 다음 루프로 진입한다"
   ]
  },
  {
   "attachments": {},
   "cell_type": "markdown",
   "metadata": {},
   "source": [
    "# 2. 에러 발생해도 코드가 돌아가도록 하기"
   ]
  },
  {
   "cell_type": "code",
   "execution_count": 10,
   "metadata": {},
   "outputs": [
    {
     "name": "stdout",
     "output_type": "stream",
     "text": [
      "name 'doing' is not defined\n",
      "still working\n"
     ]
    }
   ],
   "source": [
    "try:\n",
    "    print(doing)\n",
    "except Exception as e:\n",
    "    print(e)\n",
    "print(\"still working\")"
   ]
  },
  {
   "cell_type": "code",
   "execution_count": 28,
   "metadata": {},
   "outputs": [
    {
     "name": "stdout",
     "output_type": "stream",
     "text": [
      "doing\n",
      "still working\n"
     ]
    }
   ],
   "source": [
    "try:\n",
    "    print(\"doing\")\n",
    "except Exception as e:\n",
    "    print(e)\n",
    "print(\"still working\") "
   ]
  },
  {
   "attachments": {},
   "cell_type": "markdown",
   "metadata": {},
   "source": [
    "에러 코드 출력이 싫다면"
   ]
  },
  {
   "cell_type": "code",
   "execution_count": 11,
   "metadata": {},
   "outputs": [
    {
     "name": "stdout",
     "output_type": "stream",
     "text": [
      "still working\n"
     ]
    }
   ],
   "source": [
    "try:\n",
    "    print(doing)\n",
    "except:\n",
    "    pass\n",
    "print(\"still working\")\n",
    "# pass는 의미를 가지고 있지는 않지만 코드가 있다는 것을 의미하여 except 뒤에 코드가 오지 않아서 생기는 문제를 막는다"
   ]
  },
  {
   "attachments": {},
   "cell_type": "markdown",
   "metadata": {},
   "source": [
    "Except과 braek의 조합을 통한 에러 발생시 반복문 종료"
   ]
  },
  {
   "cell_type": "code",
   "execution_count": 12,
   "metadata": {},
   "outputs": [
    {
     "name": "stdout",
     "output_type": "stream",
     "text": [
      "5.0\n",
      "next i value is 1\n",
      "10.0\n",
      "next i value is 0\n"
     ]
    }
   ],
   "source": [
    "i=2\n",
    "while True:\n",
    "    try:\n",
    "        print(10/i)\n",
    "        i -= 1\n",
    "        print(f\"next i value is {i}\")\n",
    "    except:\n",
    "        break"
   ]
  },
  {
   "attachments": {},
   "cell_type": "markdown",
   "metadata": {},
   "source": [
    "# 3. Selenium으로 사이트 접근"
   ]
  },
  {
   "cell_type": "code",
   "execution_count": 14,
   "metadata": {},
   "outputs": [],
   "source": [
    "from selenium import webdriver"
   ]
  },
  {
   "attachments": {},
   "cell_type": "markdown",
   "metadata": {},
   "source": [
    "driver란 이름의 드라이버 객체를 생성 - \"chromedriver.exe의 위치\"가 들어감"
   ]
  },
  {
   "cell_type": "code",
   "execution_count": 17,
   "metadata": {},
   "outputs": [
    {
     "name": "stderr",
     "output_type": "stream",
     "text": [
      "C:\\Users\\kyoun\\AppData\\Local\\Temp\\ipykernel_17976\\2802906935.py:1: DeprecationWarning: executable_path has been deprecated, please pass in a Service object\n",
      "  driver=webdriver.Chrome(\"chromedriver.exe\")\n"
     ]
    }
   ],
   "source": [
    "driver=webdriver.Chrome(\"chromedriver.exe\")"
   ]
  },
  {
   "attachments": {},
   "cell_type": "markdown",
   "metadata": {},
   "source": [
    "모바일 웹에서 진행하고 싶을 경우"
   ]
  },
  {
   "cell_type": "code",
   "execution_count": 16,
   "metadata": {},
   "outputs": [],
   "source": [
    "mobile_emulation = { \"deviceName\": \"iPhone X\" }\n",
    "chrome_options = webdriver.ChromeOptions()\n",
    "chrome_options.add_experimental_option(\"mobileEmulation\", mobile_emulation)\n",
    "driver = webdriver.Chrome(options=chrome_options)"
   ]
  },
  {
   "cell_type": "code",
   "execution_count": 44,
   "metadata": {},
   "outputs": [],
   "source": [
    "sec = 3\n",
    "\n",
    "# 기본적으로 다 로딩될 때까지 기다리지만 페이지가 다 로딩될 때 까지 암묵적으로 기다리는 시간 설정\n",
    "driver.implicitly_wait(sec)\n",
    "\n",
    "# 그럼에도 가끔 사양 문제인지 그냥 넘어갈 때가 있어서\n",
    "import time\n",
    "time.sleep(sec) # 그럴 경우에 추가해준다"
   ]
  },
  {
   "attachments": {},
   "cell_type": "markdown",
   "metadata": {},
   "source": [
    "URL 접근"
   ]
  },
  {
   "cell_type": "code",
   "execution_count": 18,
   "metadata": {},
   "outputs": [],
   "source": [
    "site = 'https://www.naver.com'\n",
    "driver.get(site)"
   ]
  },
  {
   "attachments": {},
   "cell_type": "markdown",
   "metadata": {},
   "source": [
    "# 4. 사이트의 element에 접근"
   ]
  },
  {
   "cell_type": "code",
   "execution_count": 20,
   "metadata": {},
   "outputs": [],
   "source": [
    "from selenium.webdriver.common.by import By\n",
    "# By를 통해서 무엇을 찾고자 하는지 입력한다"
   ]
  },
  {
   "attachments": {},
   "cell_type": "markdown",
   "metadata": {},
   "source": [
    "|By|설명|\n",
    "|:---:|:---:|\n",
    "|By.TAG_NAME|태그|\n",
    "|By.CSS_SELECTOR|css 선택자|\n",
    "|By.LINK_TEXT|링크 텍스트|\n",
    "|By.ID|id 선택자|\n",
    "|By.NAME|name attribute|\n",
    "|By.PARTIAL_LINK_TEXT|링크 텍스트 일부 일치|\n",
    "|By.CLASS_NAME|class|\n",
    "|By.XPATH|XPATH|"
   ]
  },
  {
   "cell_type": "code",
   "execution_count": 21,
   "metadata": {},
   "outputs": [],
   "source": [
    "single = driver.find_element(By.ID, 'account')"
   ]
  },
  {
   "cell_type": "code",
   "execution_count": 50,
   "metadata": {},
   "outputs": [
    {
     "data": {
      "text/plain": [
       "[<selenium.webdriver.remote.webelement.WebElement (session=\"f5c9647f193237fd75d7246513df59a7\", element=\"ef683791-a54b-402f-9b11-1dbe01c28331\")>]"
      ]
     },
     "execution_count": 50,
     "metadata": {},
     "output_type": "execute_result"
    }
   ],
   "source": [
    "element_list = driver.find_elements(By.ID, \"account\")"
   ]
  },
  {
   "attachments": {},
   "cell_type": "markdown",
   "metadata": {},
   "source": [
    "접근한 element에서 정보 가져오거나 클릭 신호 주기"
   ]
  },
  {
   "cell_type": "code",
   "execution_count": 22,
   "metadata": {},
   "outputs": [
    {
     "data": {
      "text/plain": [
       "'Sign in\\nConnect with people\\nNAVER\\nSign in\\nForgot Username Password\\nSign up'"
      ]
     },
     "execution_count": 22,
     "metadata": {},
     "output_type": "execute_result"
    }
   ],
   "source": [
    "# element의 텍스트 가져오기 - 보이는 것만 가져온다\n",
    "driver.find_element(By.ID, 'account').text"
   ]
  },
  {
   "cell_type": "code",
   "execution_count": 23,
   "metadata": {},
   "outputs": [],
   "source": [
    "# 해당 element를 클릭한 효과 내기\n",
    "driver.find_element(By.ID, \"account\").click()"
   ]
  },
  {
   "attachments": {},
   "cell_type": "markdown",
   "metadata": {},
   "source": [
    "접근한 element에서 attribute 가져오기"
   ]
  },
  {
   "cell_type": "code",
   "execution_count": 24,
   "metadata": {},
   "outputs": [
    {
     "data": {
      "text/plain": [
       "'sc_login'"
      ]
     },
     "execution_count": 24,
     "metadata": {},
     "output_type": "execute_result"
    }
   ],
   "source": [
    "driver.find_element(By.ID, \"account\").get_attribute(\"class\")"
   ]
  },
  {
   "cell_type": "code",
   "execution_count": 54,
   "metadata": {},
   "outputs": [],
   "source": [
    "# 드라이버 종료\n",
    "driver.quit()"
   ]
  }
 ],
 "metadata": {
  "kernelspec": {
   "display_name": "Python 3",
   "language": "python",
   "name": "python3"
  },
  "language_info": {
   "codemirror_mode": {
    "name": "ipython",
    "version": 3
   },
   "file_extension": ".py",
   "mimetype": "text/x-python",
   "name": "python",
   "nbconvert_exporter": "python",
   "pygments_lexer": "ipython3",
   "version": "3.10.8"
  },
  "orig_nbformat": 4
 },
 "nbformat": 4,
 "nbformat_minor": 2
}
