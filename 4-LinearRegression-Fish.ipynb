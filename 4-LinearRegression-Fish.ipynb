{
 "cells": [
  {
   "cell_type": "code",
   "execution_count": 1,
   "metadata": {},
   "outputs": [],
   "source": [
    "import numpy as np\n",
    "import pandas as pd\n",
    "import os"
   ]
  },
  {
   "attachments": {},
   "cell_type": "markdown",
   "metadata": {},
   "source": [
    "y=ax+b\n",
    "y=ax1+bx2+....+b"
   ]
  },
  {
   "cell_type": "code",
   "execution_count": 2,
   "metadata": {},
   "outputs": [],
   "source": [
    "df = pd.read_excel(\"./Fish.xlsx\")"
   ]
  },
  {
   "cell_type": "code",
   "execution_count": 3,
   "metadata": {},
   "outputs": [],
   "source": [
    "import statsmodels.api as sm"
   ]
  },
  {
   "cell_type": "code",
   "execution_count": 4,
   "metadata": {},
   "outputs": [
    {
     "name": "stdout",
     "output_type": "stream",
     "text": [
      "Index(['Row', 'Name', 'Species', 'Species.Eq.1', 'Species.Eq.2',\n",
      "       'Species.Eq.3', 'Species.Eq.4', 'Species.Eq.5', 'Species.Eq.6',\n",
      "       'Species.Eq.7', 'Weight_g', 'Weight_g.Ln', 'Weight_g.Ln.Model.4',\n",
      "       'Weight_g.Ln.Model.4.Exp', 'Weight_g.Ln.Model.4.Resid', 'Length_cm',\n",
      "       'Length_cm.Ln', 'Height_pct', 'Height_pct.Ln', 'Width_pct',\n",
      "       'Width_pct.Ln', 'Unnamed: 21', 'interaction var', 'L*H', 'H*W'],\n",
      "      dtype='object')\n"
     ]
    }
   ],
   "source": [
    "print(df.columns)"
   ]
  },
  {
   "cell_type": "code",
   "execution_count": 5,
   "metadata": {},
   "outputs": [],
   "source": [
    "dummy = df.iloc[:, [2]]\n",
    "y = df.loc[:, ['Weight_g.Ln']]\n",
    "x = df.loc[:, ['Length_cm.Ln', 'Width_pct.Ln']]"
   ]
  },
  {
   "cell_type": "code",
   "execution_count": 6,
   "metadata": {},
   "outputs": [],
   "source": [
    "y.columns=['weight']\n",
    "x.columns=['length', 'width']\n",
    "dummy.columns=['species']"
   ]
  },
  {
   "cell_type": "code",
   "execution_count": 7,
   "metadata": {},
   "outputs": [],
   "source": [
    "new_df = pd.concat([y, x, dummy], axis=1)"
   ]
  },
  {
   "cell_type": "code",
   "execution_count": 8,
   "metadata": {},
   "outputs": [
    {
     "name": "stdout",
     "output_type": "stream",
     "text": [
      "                                 OLS Regression Results                                \n",
      "=======================================================================================\n",
      "Dep. Variable:                 weight   R-squared (uncentered):                   0.989\n",
      "Model:                            OLS   Adj. R-squared (uncentered):              0.989\n",
      "Method:                 Least Squares   F-statistic:                              7173.\n",
      "Date:                Thu, 18 May 2023   Prob (F-statistic):                   1.75e-153\n",
      "Time:                        17:18:19   Log-Likelihood:                         -136.06\n",
      "No. Observations:                 157   AIC:                                      276.1\n",
      "Df Residuals:                     155   BIC:                                      282.2\n",
      "Df Model:                           2                                                  \n",
      "Covariance Type:            nonrobust                                                  \n",
      "==============================================================================\n",
      "                 coef    std err          t      P>|t|      [0.025      0.975]\n",
      "------------------------------------------------------------------------------\n",
      "length         2.5623      0.108     23.761      0.000       2.349       2.775\n",
      "width         -1.2084      0.139     -8.722      0.000      -1.482      -0.935\n",
      "==============================================================================\n",
      "Omnibus:                       32.452   Durbin-Watson:                   0.229\n",
      "Prob(Omnibus):                  0.000   Jarque-Bera (JB):               44.859\n",
      "Skew:                          -1.207   Prob(JB):                     1.82e-10\n",
      "Kurtosis:                       4.013   Cond. No.                         16.3\n",
      "==============================================================================\n",
      "\n",
      "Notes:\n",
      "[1] R² is computed without centering (uncentered) since the model does not contain a constant.\n",
      "[2] Standard Errors assume that the covariance matrix of the errors is correctly specified.\n"
     ]
    }
   ],
   "source": [
    "Linear = sm.OLS(y, x)\n",
    "result1 = Linear.fit()\n",
    "print(result1.summary())"
   ]
  },
  {
   "cell_type": "code",
   "execution_count": 9,
   "metadata": {},
   "outputs": [
    {
     "data": {
      "text/html": [
       "<div>\n",
       "<style scoped>\n",
       "    .dataframe tbody tr th:only-of-type {\n",
       "        vertical-align: middle;\n",
       "    }\n",
       "\n",
       "    .dataframe tbody tr th {\n",
       "        vertical-align: top;\n",
       "    }\n",
       "\n",
       "    .dataframe thead th {\n",
       "        text-align: right;\n",
       "    }\n",
       "</style>\n",
       "<table border=\"1\" class=\"dataframe\">\n",
       "  <thead>\n",
       "    <tr style=\"text-align: right;\">\n",
       "      <th></th>\n",
       "      <th>weight</th>\n",
       "      <th>length</th>\n",
       "      <th>width</th>\n",
       "      <th>species</th>\n",
       "    </tr>\n",
       "  </thead>\n",
       "  <tbody>\n",
       "    <tr>\n",
       "      <th>0</th>\n",
       "      <td>5.488938</td>\n",
       "      <td>3.401197</td>\n",
       "      <td>2.595255</td>\n",
       "      <td>1</td>\n",
       "    </tr>\n",
       "    <tr>\n",
       "      <th>1</th>\n",
       "      <td>5.669881</td>\n",
       "      <td>3.440418</td>\n",
       "      <td>2.624669</td>\n",
       "      <td>1</td>\n",
       "    </tr>\n",
       "    <tr>\n",
       "      <th>2</th>\n",
       "      <td>5.828946</td>\n",
       "      <td>3.437208</td>\n",
       "      <td>2.714695</td>\n",
       "      <td>1</td>\n",
       "    </tr>\n",
       "    <tr>\n",
       "      <th>3</th>\n",
       "      <td>5.894403</td>\n",
       "      <td>3.511545</td>\n",
       "      <td>2.587764</td>\n",
       "      <td>1</td>\n",
       "    </tr>\n",
       "    <tr>\n",
       "      <th>4</th>\n",
       "      <td>6.063785</td>\n",
       "      <td>3.526361</td>\n",
       "      <td>2.714695</td>\n",
       "      <td>1</td>\n",
       "    </tr>\n",
       "    <tr>\n",
       "      <th>...</th>\n",
       "      <td>...</td>\n",
       "      <td>...</td>\n",
       "      <td>...</td>\n",
       "      <td>...</td>\n",
       "    </tr>\n",
       "    <tr>\n",
       "      <th>152</th>\n",
       "      <td>7.003065</td>\n",
       "      <td>3.797734</td>\n",
       "      <td>2.734368</td>\n",
       "      <td>7</td>\n",
       "    </tr>\n",
       "    <tr>\n",
       "      <th>153</th>\n",
       "      <td>6.907755</td>\n",
       "      <td>3.811097</td>\n",
       "      <td>2.778819</td>\n",
       "      <td>7</td>\n",
       "    </tr>\n",
       "    <tr>\n",
       "      <th>154</th>\n",
       "      <td>7.003065</td>\n",
       "      <td>3.817712</td>\n",
       "      <td>2.791165</td>\n",
       "      <td>7</td>\n",
       "    </tr>\n",
       "    <tr>\n",
       "      <th>155</th>\n",
       "      <td>6.907755</td>\n",
       "      <td>3.828641</td>\n",
       "      <td>2.873565</td>\n",
       "      <td>7</td>\n",
       "    </tr>\n",
       "    <tr>\n",
       "      <th>156</th>\n",
       "      <td>6.907755</td>\n",
       "      <td>3.841601</td>\n",
       "      <td>2.791165</td>\n",
       "      <td>7</td>\n",
       "    </tr>\n",
       "  </tbody>\n",
       "</table>\n",
       "<p>157 rows × 4 columns</p>\n",
       "</div>"
      ],
      "text/plain": [
       "       weight    length     width  species\n",
       "0    5.488938  3.401197  2.595255        1\n",
       "1    5.669881  3.440418  2.624669        1\n",
       "2    5.828946  3.437208  2.714695        1\n",
       "3    5.894403  3.511545  2.587764        1\n",
       "4    6.063785  3.526361  2.714695        1\n",
       "..        ...       ...       ...      ...\n",
       "152  7.003065  3.797734  2.734368        7\n",
       "153  6.907755  3.811097  2.778819        7\n",
       "154  7.003065  3.817712  2.791165        7\n",
       "155  6.907755  3.828641  2.873565        7\n",
       "156  6.907755  3.841601  2.791165        7\n",
       "\n",
       "[157 rows x 4 columns]"
      ]
     },
     "execution_count": 9,
     "metadata": {},
     "output_type": "execute_result"
    }
   ],
   "source": [
    "new_df"
   ]
  },
  {
   "attachments": {},
   "cell_type": "markdown",
   "metadata": {},
   "source": [
    "Categorical variable을 모델에 추가해서 다루기"
   ]
  },
  {
   "cell_type": "code",
   "execution_count": 21,
   "metadata": {},
   "outputs": [],
   "source": [
    "import statsmodels.formula.api as smf"
   ]
  },
  {
   "cell_type": "code",
   "execution_count": 22,
   "metadata": {},
   "outputs": [
    {
     "name": "stdout",
     "output_type": "stream",
     "text": [
      "                            OLS Regression Results                            \n",
      "==============================================================================\n",
      "Dep. Variable:                 weight   R-squared:                       0.996\n",
      "Model:                            OLS   Adj. R-squared:                  0.996\n",
      "Method:                 Least Squares   F-statistic:                     4525.\n",
      "Date:                Thu, 18 May 2023   Prob (F-statistic):          9.59e-173\n",
      "Time:                        17:21:04   Log-Likelihood:                 165.00\n",
      "No. Observations:                 157   AIC:                            -312.0\n",
      "Df Residuals:                     148   BIC:                            -284.5\n",
      "Df Model:                           8                                         \n",
      "Covariance Type:            nonrobust                                         \n",
      "===================================================================================\n",
      "                      coef    std err          t      P>|t|      [0.025      0.975]\n",
      "-----------------------------------------------------------------------------------\n",
      "Intercept          -6.8239      0.248    -27.545      0.000      -7.313      -6.334\n",
      "C(species)[T.2]     0.0301      0.041      0.738      0.461      -0.050       0.110\n",
      "C(species)[T.3]    -0.1273      0.029     -4.374      0.000      -0.185      -0.070\n",
      "C(species)[T.4]     0.1634      0.034      4.743      0.000       0.095       0.232\n",
      "C(species)[T.5]    -0.4546      0.047     -9.635      0.000      -0.548      -0.361\n",
      "C(species)[T.6]    -0.4688      0.042    -11.114      0.000      -0.552      -0.385\n",
      "C(species)[T.7]    -0.0553      0.025     -2.172      0.031      -0.106      -0.005\n",
      "length              3.0719      0.032     97.477      0.000       3.010       3.134\n",
      "width               0.7623      0.099      7.703      0.000       0.567       0.958\n",
      "==============================================================================\n",
      "Omnibus:                        6.691   Durbin-Watson:                   1.851\n",
      "Prob(Omnibus):                  0.035   Jarque-Bera (JB):                8.059\n",
      "Skew:                           0.285   Prob(JB):                       0.0178\n",
      "Kurtosis:                       3.952   Cond. No.                         170.\n",
      "==============================================================================\n",
      "\n",
      "Notes:\n",
      "[1] Standard Errors assume that the covariance matrix of the errors is correctly specified.\n"
     ]
    }
   ],
   "source": [
    "Linear = smf.ols(formula='weight ~ length + width + C(species)', data=new_df)\n",
    "result = Linear.fit()\n",
    "print(result.summary())"
   ]
  },
  {
   "attachments": {},
   "cell_type": "markdown",
   "metadata": {},
   "source": [
    "interaction 추가"
   ]
  },
  {
   "cell_type": "code",
   "execution_count": 23,
   "metadata": {},
   "outputs": [
    {
     "name": "stdout",
     "output_type": "stream",
     "text": [
      "                            OLS Regression Results                            \n",
      "==============================================================================\n",
      "Dep. Variable:                 weight   R-squared:                       0.996\n",
      "Model:                            OLS   Adj. R-squared:                  0.996\n",
      "Method:                 Least Squares   F-statistic:                     4001.\n",
      "Date:                Thu, 18 May 2023   Prob (F-statistic):          6.04e-171\n",
      "Time:                        17:21:19   Log-Likelihood:                 165.10\n",
      "No. Observations:                 157   AIC:                            -310.2\n",
      "Df Residuals:                     147   BIC:                            -279.6\n",
      "Df Model:                           9                                         \n",
      "Covariance Type:            nonrobust                                         \n",
      "===================================================================================\n",
      "                      coef    std err          t      P>|t|      [0.025      0.975]\n",
      "-----------------------------------------------------------------------------------\n",
      "Intercept          -6.2086      1.401     -4.432      0.000      -8.977      -3.440\n",
      "C(species)[T.2]     0.0277      0.041      0.673      0.502      -0.054       0.109\n",
      "C(species)[T.3]    -0.1292      0.029     -4.381      0.000      -0.187      -0.071\n",
      "C(species)[T.4]     0.1609      0.035      4.591      0.000       0.092       0.230\n",
      "C(species)[T.5]    -0.4766      0.068     -6.985      0.000      -0.611      -0.342\n",
      "C(species)[T.6]    -0.4561      0.051     -8.942      0.000      -0.557      -0.355\n",
      "C(species)[T.7]    -0.0577      0.026     -2.212      0.029      -0.109      -0.006\n",
      "length              2.8863      0.417      6.922      0.000       2.062       3.710\n",
      "width               0.5360      0.517      1.038      0.301      -0.485       1.557\n",
      "length:width        0.0684      0.153      0.446      0.656      -0.234       0.371\n",
      "==============================================================================\n",
      "Omnibus:                        7.332   Durbin-Watson:                   1.839\n",
      "Prob(Omnibus):                  0.026   Jarque-Bera (JB):                8.864\n",
      "Skew:                           0.316   Prob(JB):                       0.0119\n",
      "Kurtosis:                       3.977   Cond. No.                     2.23e+03\n",
      "==============================================================================\n",
      "\n",
      "Notes:\n",
      "[1] Standard Errors assume that the covariance matrix of the errors is correctly specified.\n",
      "[2] The condition number is large, 2.23e+03. This might indicate that there are\n",
      "strong multicollinearity or other numerical problems.\n"
     ]
    }
   ],
   "source": [
    "Linear = smf.ols(formula='weight ~ length * width + C(species)', data=new_df)\n",
    "result = Linear.fit()\n",
    "print(result.summary())"
   ]
  },
  {
   "attachments": {},
   "cell_type": "markdown",
   "metadata": {},
   "source": [
    "https://www.statsmodels.org/dev/example_formulas.html"
   ]
  },
  {
   "attachments": {},
   "cell_type": "markdown",
   "metadata": {},
   "source": [
    "예측 시키기"
   ]
  },
  {
   "cell_type": "code",
   "execution_count": 12,
   "metadata": {},
   "outputs": [],
   "source": [
    "inner = np.array([[3.7, 3.9, 2]])"
   ]
  },
  {
   "cell_type": "code",
   "execution_count": 13,
   "metadata": {},
   "outputs": [
    {
     "data": {
      "text/plain": [
       "array([4.76783128])"
      ]
     },
     "execution_count": 13,
     "metadata": {},
     "output_type": "execute_result"
    }
   ],
   "source": [
    "result1.predict([3.7, 3.9])"
   ]
  },
  {
   "cell_type": "code",
   "execution_count": 14,
   "metadata": {},
   "outputs": [],
   "source": [
    "inp = pd.DataFrame([[3.7, 3.9, 1]])\n"
   ]
  },
  {
   "cell_type": "code",
   "execution_count": 15,
   "metadata": {},
   "outputs": [
    {
     "data": {
      "text/html": [
       "<div>\n",
       "<style scoped>\n",
       "    .dataframe tbody tr th:only-of-type {\n",
       "        vertical-align: middle;\n",
       "    }\n",
       "\n",
       "    .dataframe tbody tr th {\n",
       "        vertical-align: top;\n",
       "    }\n",
       "\n",
       "    .dataframe thead th {\n",
       "        text-align: right;\n",
       "    }\n",
       "</style>\n",
       "<table border=\"1\" class=\"dataframe\">\n",
       "  <thead>\n",
       "    <tr style=\"text-align: right;\">\n",
       "      <th></th>\n",
       "      <th>0</th>\n",
       "      <th>1</th>\n",
       "      <th>2</th>\n",
       "    </tr>\n",
       "  </thead>\n",
       "  <tbody>\n",
       "    <tr>\n",
       "      <th>0</th>\n",
       "      <td>3.7</td>\n",
       "      <td>3.9</td>\n",
       "      <td>1</td>\n",
       "    </tr>\n",
       "  </tbody>\n",
       "</table>\n",
       "</div>"
      ],
      "text/plain": [
       "     0    1  2\n",
       "0  3.7  3.9  1"
      ]
     },
     "execution_count": 15,
     "metadata": {},
     "output_type": "execute_result"
    }
   ],
   "source": [
    "inp"
   ]
  },
  {
   "cell_type": "code",
   "execution_count": 16,
   "metadata": {},
   "outputs": [],
   "source": [
    "inp.columns = ['length', 'width', 'species']"
   ]
  },
  {
   "cell_type": "code",
   "execution_count": 17,
   "metadata": {},
   "outputs": [
    {
     "data": {
      "text/plain": [
       "0    7.547893\n",
       "dtype: float64"
      ]
     },
     "execution_count": 17,
     "metadata": {},
     "output_type": "execute_result"
    }
   ],
   "source": [
    "result.predict(inp)"
   ]
  }
 ],
 "metadata": {
  "kernelspec": {
   "display_name": "Python 3",
   "language": "python",
   "name": "python3"
  },
  "language_info": {
   "codemirror_mode": {
    "name": "ipython",
    "version": 3
   },
   "file_extension": ".py",
   "mimetype": "text/x-python",
   "name": "python",
   "nbconvert_exporter": "python",
   "pygments_lexer": "ipython3",
   "version": "3.10.8"
  },
  "orig_nbformat": 4
 },
 "nbformat": 4,
 "nbformat_minor": 2
}
