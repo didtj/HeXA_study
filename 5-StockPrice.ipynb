{
  "cells": [
    {
      "attachments": {},
      "cell_type": "markdown",
      "id": "8E-RxfCR1__F",
      "metadata": {
        "id": "8E-RxfCR1__F"
      },
      "source": [
        "<h1><center>IE 313 Time Series Analysis: Code Implementation Assignment 1</center></h1>"
      ]
    },
    {
      "attachments": {},
      "cell_type": "markdown",
      "id": "QWw6filV1__I",
      "metadata": {
        "id": "QWw6filV1__I"
      },
      "source": [
        "<div align=\"right\">2022 Fall, Prof. Yongjae Lee</div>\n",
        "<div align=\"right\"> Coded by TA. JunPyo Park</div>"
      ]
    },
    {
      "attachments": {},
      "cell_type": "markdown",
      "id": "34484daf",
      "metadata": {},
      "source": [
        "# read data"
      ]
    },
    {
      "attachments": {},
      "cell_type": "markdown",
      "id": "UpOL7dUc1__J",
      "metadata": {
        "id": "UpOL7dUc1__J"
      },
      "source": [
        "Install the required packages using pip\n",
        "* Install using pip : `pandas`, `sklearn`, `matplotlib`, `statsmodels`\n",
        "* This code was developed in Python 3.8 and any other versions are allowed."
      ]
    },
    {
      "cell_type": "code",
      "execution_count": 1,
      "id": "JoGKDW8X1__J",
      "metadata": {
        "id": "JoGKDW8X1__J"
      },
      "outputs": [],
      "source": [
        "import numpy as np  #for numeric computations like log, exp, sqrt\n",
        "import pandas as pd #for reading & storing data, pre=processing\n",
        "from sklearn.preprocessing import PolynomialFeatures\n",
        "import matplotlib.pyplot as plt #for visualization\n",
        "import statsmodels.api as sm\n",
        "from scipy import stats"
      ]
    },
    {
      "attachments": {},
      "cell_type": "markdown",
      "id": "XmQxleTK1__K",
      "metadata": {
        "id": "XmQxleTK1__K"
      },
      "source": [
        "## Read Data"
      ]
    },
    {
      "attachments": {},
      "cell_type": "markdown",
      "id": "_FuHV7pS1__L",
      "metadata": {
        "id": "_FuHV7pS1__L"
      },
      "source": [
        "![](https://trello.com/1/cards/62469d0f1dfc968cf7510f2b/attachments/63183fba10424b00f60b8b47/previews/63183fbb10424b00f60b8b6b/download/image.png)"
      ]
    },
    {
      "attachments": {},
      "cell_type": "markdown",
      "id": "rTSKxJZy1__L",
      "metadata": {
        "id": "rTSKxJZy1__L"
      },
      "source": [
        "Download your data file in Excel (.csv) as shown in the figure above.\n",
        "\n",
        "* You can use time-series data, which have 'Date' or 'Timestamp' columns.\n",
        "* Also, you can use sequential data which do not have 'Date' columns."
      ]
    },
    {
      "attachments": {},
      "cell_type": "markdown",
      "id": "ma9P9Rjm1__M",
      "metadata": {
        "id": "ma9P9Rjm1__M"
      },
      "source": [
        "Read '.csv' file in the form of DataFrame (pandas.DataFrame) through 'read_csv' method in Pandas. \n",
        "\n",
        "* Else, read using 'read_excel' method. \n",
        "* If there is 'Date' column, indexing is possible by specifying 'index_col' as below."
      ]
    },
    {
      "cell_type": "code",
      "execution_count": 2,
      "id": "DRQT8Iws1__M",
      "metadata": {
        "id": "DRQT8Iws1__M"
      },
      "outputs": [],
      "source": [
        "# use your own data\n",
        "data = pd.read_csv('stockPrice.csv', index_col='date')"
      ]
    },
    {
      "attachments": {},
      "cell_type": "markdown",
      "id": "gF-Cc1Nx1__M",
      "metadata": {
        "id": "gF-Cc1Nx1__M"
      },
      "source": [
        "\n",
        "It is convenient to change Date dtype from 'object' to 'datetime'."
      ]
    },
    {
      "cell_type": "code",
      "execution_count": 3,
      "id": "D1g-nTtw1__N",
      "metadata": {
        "id": "D1g-nTtw1__N",
        "outputId": "136cbaa5-0f0c-427b-a27a-3d448099db44"
      },
      "outputs": [
        {
          "data": {
            "text/plain": [
              "Index(['1980-12-12', '1980-12-15', '1980-12-16', '1980-12-17', '1980-12-18',\n",
              "       '1980-12-19', '1980-12-22', '1980-12-23', '1980-12-24', '1980-12-26',\n",
              "       ...\n",
              "       '2022-09-12', '2022-09-13', '2022-09-14', '2022-09-15', '2022-09-16',\n",
              "       '2022-09-19', '2022-09-20', '2022-09-21', '2022-09-22', '2022-09-23'],\n",
              "      dtype='object', name='date', length=10534)"
            ]
          },
          "execution_count": 3,
          "metadata": {},
          "output_type": "execute_result"
        }
      ],
      "source": [
        "# check index type\n",
        "data.index"
      ]
    },
    {
      "attachments": {},
      "cell_type": "markdown",
      "id": "i8RFT-LI1__N",
      "metadata": {
        "id": "i8RFT-LI1__N"
      },
      "source": [
        "\n",
        "Convert index type using 'pd.to_datetime' method."
      ]
    },
    {
      "cell_type": "code",
      "execution_count": 4,
      "id": "LRowG6o01__N",
      "metadata": {
        "id": "LRowG6o01__N"
      },
      "outputs": [],
      "source": [
        "# convert index type to datetime\n",
        "data.index = pd.to_datetime(data.index)"
      ]
    },
    {
      "cell_type": "code",
      "execution_count": 5,
      "id": "x72SSngQ1__O",
      "metadata": {
        "id": "x72SSngQ1__O",
        "outputId": "f5ac2b92-7681-4539-9a43-60f2ca15b2df"
      },
      "outputs": [
        {
          "data": {
            "text/plain": [
              "DatetimeIndex(['1980-12-12', '1980-12-15', '1980-12-16', '1980-12-17',\n",
              "               '1980-12-18', '1980-12-19', '1980-12-22', '1980-12-23',\n",
              "               '1980-12-24', '1980-12-26',\n",
              "               ...\n",
              "               '2022-09-12', '2022-09-13', '2022-09-14', '2022-09-15',\n",
              "               '2022-09-16', '2022-09-19', '2022-09-20', '2022-09-21',\n",
              "               '2022-09-22', '2022-09-23'],\n",
              "              dtype='datetime64[ns]', name='date', length=10534, freq=None)"
            ]
          },
          "execution_count": 5,
          "metadata": {},
          "output_type": "execute_result"
        }
      ],
      "source": [
        "# Check that dtype has changed to datetime\n",
        "data.index"
      ]
    },
    {
      "attachments": {},
      "cell_type": "markdown",
      "id": "3483a0ea",
      "metadata": {},
      "source": [
        "Filter data with are not about opening price"
      ]
    },
    {
      "cell_type": "code",
      "execution_count": 6,
      "id": "403fd855",
      "metadata": {},
      "outputs": [],
      "source": [
        "data.drop(['high', 'low', 'close', 'volume'], axis = 1, inplace=True)"
      ]
    },
    {
      "attachments": {},
      "cell_type": "markdown",
      "id": "TNaEwdDR1__O",
      "metadata": {
        "id": "TNaEwdDR1__O"
      },
      "source": [
        "## Your Data Overview"
      ]
    },
    {
      "attachments": {},
      "cell_type": "markdown",
      "id": "QbFoIPL-1__O",
      "metadata": {
        "id": "QbFoIPL-1__O"
      },
      "source": [
        "\n",
        "Visualize your data using 'plot()' function."
      ]
    },
    {
      "cell_type": "code",
      "execution_count": 7,
      "id": "U8cAS_ub1__O",
      "metadata": {
        "id": "U8cAS_ub1__O",
        "outputId": "32ab9ca3-880a-41c1-97cd-d6bf4159d70a"
      },
      "outputs": [
        {
          "data": {
            "text/plain": [
              "<AxesSubplot: xlabel='date'>"
            ]
          },
          "execution_count": 7,
          "metadata": {},
          "output_type": "execute_result"
        },
        {
          "data": {
            "image/png": "[encoded data removed]",
            "text/plain": [
              "<Figure size 640x480 with 1 Axes>"
            ]
          },
          "metadata": {},
          "output_type": "display_data"
        }
      ],
      "source": [
        "data.plot()"
      ]
    },
    {
      "attachments": {},
      "cell_type": "markdown",
      "id": "KVCEZK2I1__P",
      "metadata": {
        "id": "KVCEZK2I1__P"
      },
      "source": [
        "### Plot Scatter"
      ]
    },
    {
      "attachments": {},
      "cell_type": "markdown",
      "id": "cEX_VQLW1__P",
      "metadata": {
        "id": "cEX_VQLW1__P"
      },
      "source": [
        "\n",
        "Shift your data by one time step interval through 'shift(1)' and draw a scatter plot."
      ]
    },
    {
      "cell_type": "code",
      "execution_count": 52,
      "id": "a8mYwoO01__P",
      "metadata": {
        "id": "a8mYwoO01__P",
        "outputId": "6197cfd7-b5ec-4a2c-aecf-6797194870c4"
      },
      "outputs": [
        {
          "data": {
            "image/png": "[encoded data removed]",
            "text/plain": [
              "<Figure size 640x480 with 1 Axes>"
            ]
          },
          "metadata": {},
          "output_type": "display_data"
        }
      ],
      "source": [
        "plt.scatter(data.shift(1)[1:], data[1:])\n",
        "plt.xlabel('Previous Day Open Price')\n",
        "plt.ylabel('Open Price');"
      ]
    },
    {
      "attachments": {},
      "cell_type": "markdown",
      "id": "9Qpk_jz61__Q",
      "metadata": {
        "id": "9Qpk_jz61__Q"
      },
      "source": [
        "### Resample Data"
      ]
    },
    {
      "attachments": {},
      "cell_type": "markdown",
      "id": "EL00PC3P1__Q",
      "metadata": {
        "id": "EL00PC3P1__Q"
      },
      "source": [
        "Follow this part if you need to resample your data."
      ]
    },
    {
      "attachments": {},
      "cell_type": "markdown",
      "id": "NGrqseh31__Q",
      "metadata": {
        "id": "NGrqseh31__Q"
      },
      "source": [
        "Set a different period using the `resample` (In this example,the period is changed from daily to monthly)."
      ]
    },
    {
      "cell_type": "code",
      "execution_count": 9,
      "id": "NPIC05w01__Q",
      "metadata": {
        "id": "NPIC05w01__Q",
        "scrolled": false
      },
      "outputs": [],
      "source": [
        "# monthly_data = data.resample('M').first() # resample with closing price on the first trading day of the month \n",
        "# monthly_data = data.resample('M').mean() # resample with monthly average closing price\n",
        "monthly_data = data.resample('M').last() # resample with closing price on the last trading day of the month "
      ]
    },
    {
      "cell_type": "code",
      "execution_count": 10,
      "id": "IMUe3k-_1__Q",
      "metadata": {
        "id": "IMUe3k-_1__Q",
        "outputId": "166541eb-8d38-4dd9-e4dc-e04917c3dedc"
      },
      "outputs": [
        {
          "data": {
            "text/html": [
              "<div>\n",
              "<style scoped>\n",
              "    .dataframe tbody tr th:only-of-type {\n",
              "        vertical-align: middle;\n",
              "    }\n",
              "\n",
              "    .dataframe tbody tr th {\n",
              "        vertical-align: top;\n",
              "    }\n",
              "\n",
              "    .dataframe thead th {\n",
              "        text-align: right;\n",
              "    }\n",
              "</style>\n",
              "<table border=\"1\" class=\"dataframe\">\n",
              "  <thead>\n",
              "    <tr style=\"text-align: right;\">\n",
              "      <th></th>\n",
              "      <th>open</th>\n",
              "    </tr>\n",
              "    <tr>\n",
              "      <th>date</th>\n",
              "      <th></th>\n",
              "    </tr>\n",
              "  </thead>\n",
              "  <tbody>\n",
              "    <tr>\n",
              "      <th>1980-12-31</th>\n",
              "      <td>0.1195</td>\n",
              "    </tr>\n",
              "    <tr>\n",
              "      <th>1981-01-31</th>\n",
              "      <td>0.0994</td>\n",
              "    </tr>\n",
              "    <tr>\n",
              "      <th>1981-02-28</th>\n",
              "      <td>0.0924</td>\n",
              "    </tr>\n",
              "    <tr>\n",
              "      <th>1981-03-31</th>\n",
              "      <td>0.0863</td>\n",
              "    </tr>\n",
              "    <tr>\n",
              "      <th>1981-04-30</th>\n",
              "      <td>0.0990</td>\n",
              "    </tr>\n",
              "  </tbody>\n",
              "</table>\n",
              "</div>"
            ],
            "text/plain": [
              "              open\n",
              "date              \n",
              "1980-12-31  0.1195\n",
              "1981-01-31  0.0994\n",
              "1981-02-28  0.0924\n",
              "1981-03-31  0.0863\n",
              "1981-04-30  0.0990"
            ]
          },
          "execution_count": 10,
          "metadata": {},
          "output_type": "execute_result"
        }
      ],
      "source": [
        "monthly_data.head()"
      ]
    },
    {
      "cell_type": "code",
      "execution_count": 11,
      "id": "Lt_Fu7Ze1__Q",
      "metadata": {
        "id": "Lt_Fu7Ze1__Q",
        "outputId": "fac8a6bc-f11b-4ca0-e2cf-69479081d6ec"
      },
      "outputs": [
        {
          "data": {
            "image/png": "[encoded data removed]",
            "text/plain": [
              "<Figure size 640x480 with 1 Axes>"
            ]
          },
          "metadata": {},
          "output_type": "display_data"
        }
      ],
      "source": [
        "# visualize resampled data\n",
        "monthly_data.plot();"
      ]
    },
    {
      "cell_type": "code",
      "execution_count": 12,
      "id": "rYLgzSpf1__Q",
      "metadata": {
        "id": "rYLgzSpf1__Q",
        "outputId": "a1c70a50-0122-4a04-ba85-ed6a78064cd0"
      },
      "outputs": [
        {
          "data": {
            "image/png": "[encoded data removed]",
            "text/plain": [
              "<Figure size 640x480 with 1 Axes>"
            ]
          },
          "metadata": {},
          "output_type": "display_data"
        }
      ],
      "source": [
        "# Relationship with the previous month\n",
        "plt.scatter(monthly_data.shift(1)[1:], monthly_data[1:])\n",
        "plt.xlabel('Previous Month Open Price')\n",
        "plt.ylabel('Open Price');"
      ]
    },
    {
      "attachments": {},
      "cell_type": "markdown",
      "id": "oPJDZWnN1__Q",
      "metadata": {
        "id": "oPJDZWnN1__Q"
      },
      "source": [
        "## Define Variables"
      ]
    },
    {
      "attachments": {},
      "cell_type": "markdown",
      "id": "ZSPEvaXJ1__R",
      "metadata": {
        "id": "ZSPEvaXJ1__R"
      },
      "source": [
        "Set x so that can represent time as the length of data.\n"
      ]
    },
    {
      "cell_type": "code",
      "execution_count": 13,
      "id": "Xu2qe-zI1__R",
      "metadata": {
        "id": "Xu2qe-zI1__R"
      },
      "outputs": [
        {
          "data": {
            "text/plain": [
              "array([    0,     1,     2, ..., 10531, 10532, 10533])"
            ]
          },
          "execution_count": 13,
          "metadata": {},
          "output_type": "execute_result"
        }
      ],
      "source": [
        "x = np.arange(len(data))\n",
        "x"
      ]
    },
    {
      "attachments": {},
      "cell_type": "markdown",
      "id": "DKTUwsyE1__R",
      "metadata": {
        "id": "DKTUwsyE1__R"
      },
      "source": [
        "Set y as the target of your analysis."
      ]
    },
    {
      "cell_type": "code",
      "execution_count": 14,
      "id": "LJNv1z1j1__R",
      "metadata": {
        "id": "LJNv1z1j1__R"
      },
      "outputs": [
        {
          "data": {
            "text/plain": [
              "array([[1.0030e-01],\n",
              "       [9.5500e-02],\n",
              "       [8.8500e-02],\n",
              "       ...,\n",
              "       [1.5734e+02],\n",
              "       [1.5238e+02],\n",
              "       [1.5119e+02]])"
            ]
          },
          "execution_count": 14,
          "metadata": {},
          "output_type": "execute_result"
        }
      ],
      "source": [
        "# y = data.values.reshape(-1,1)\n",
        "y = data.values\n",
        "y"
      ]
    },
    {
      "attachments": {},
      "cell_type": "markdown",
      "id": "QVGYDywK1__R",
      "metadata": {
        "id": "QVGYDywK1__R"
      },
      "source": [
        "## Linear Regression"
      ]
    },
    {
      "attachments": {},
      "cell_type": "markdown",
      "id": "2zHtzuBS1__R",
      "metadata": {
        "id": "2zHtzuBS1__R"
      },
      "source": [
        "How to run the Linear Regression"
      ]
    },
    {
      "attachments": {},
      "cell_type": "markdown",
      "id": "FuVW278-1__R",
      "metadata": {
        "id": "FuVW278-1__R"
      },
      "source": [
        "$$y=w_0+w_1 x =\\begin{bmatrix}\n",
        "w_0 & w_1\n",
        "\\end{bmatrix}   \\begin{bmatrix}\n",
        "1\\\\\n",
        "x\n",
        "\\end{bmatrix} = \\mathbf{w}\\mathbf{x}$$\n",
        "\n"
      ]
    },
    {
      "attachments": {},
      "cell_type": "markdown",
      "id": "Vfh3BrN81__R",
      "metadata": {
        "id": "Vfh3BrN81__R"
      },
      "source": [
        "\n",
        "Find the parameter $\\mathbf{w}$ based on linear regression model above."
      ]
    },
    {
      "attachments": {},
      "cell_type": "markdown",
      "id": "zRvTm6dj1__R",
      "metadata": {
        "id": "zRvTm6dj1__R"
      },
      "source": [
        "\n",
        "Calculate vector $\\mathbf{x}$.\n",
        "Use `add_constant` method in statsmodels."
      ]
    },
    {
      "cell_type": "code",
      "execution_count": 15,
      "id": "I8qt6ELF1__R",
      "metadata": {
        "id": "I8qt6ELF1__R",
        "outputId": "175a7917-39a4-4e0d-f40e-00e0103fc141"
      },
      "outputs": [
        {
          "data": {
            "text/plain": [
              "array([[1.0000e+00, 0.0000e+00],\n",
              "       [1.0000e+00, 1.0000e+00],\n",
              "       [1.0000e+00, 2.0000e+00],\n",
              "       ...,\n",
              "       [1.0000e+00, 1.0531e+04],\n",
              "       [1.0000e+00, 1.0532e+04],\n",
              "       [1.0000e+00, 1.0533e+04]])"
            ]
          },
          "execution_count": 15,
          "metadata": {},
          "output_type": "execute_result"
        }
      ],
      "source": [
        "X = sm.add_constant(x)\n",
        "X"
      ]
    },
    {
      "attachments": {},
      "cell_type": "markdown",
      "id": "hnE3ieTy1__R",
      "metadata": {
        "id": "hnE3ieTy1__R"
      },
      "source": [
        "\n",
        "\n",
        "Now, $y$ and $\\mathbf{x}$ are ready. Find $\\mathbf{w}$ to minimize the residual."
      ]
    },
    {
      "attachments": {},
      "cell_type": "markdown",
      "id": "pM_iCZm-1__R",
      "metadata": {
        "id": "pM_iCZm-1__R"
      },
      "source": [
        "\n",
        "\n",
        "Use 'OLS.fit()' in statsmodels to fit linear model.\n",
        "Use `summary()` method to analyze the result of model(p-value, R-squared, etc).\n",
        "\n",
        "\n",
        "\n",
        "*   Fitting means to optimize $\\mathbf{w}$.\n",
        "*   Ordinary Least Square (OLS) can be utilized to minimize Mean Squared Error (MSE).\n",
        "\n"
      ]
    },
    {
      "attachments": {},
      "cell_type": "markdown",
      "id": "bTbeLlzO1__S",
      "metadata": {
        "id": "bTbeLlzO1__S"
      },
      "source": [
        "### Fitting Linear Regression"
      ]
    },
    {
      "cell_type": "code",
      "execution_count": 16,
      "id": "lH_LMOF51__S",
      "metadata": {
        "id": "lH_LMOF51__S",
        "outputId": "28f99ff7-87e2-43b4-ead6-79acf8d4d871"
      },
      "outputs": [
        {
          "name": "stdout",
          "output_type": "stream",
          "text": [
            "                            OLS Regression Results                            \n",
            "==============================================================================\n",
            "Dep. Variable:                      y   R-squared:                       0.402\n",
            "Model:                            OLS   Adj. R-squared:                  0.402\n",
            "Method:                 Least Squares   F-statistic:                     7080.\n",
            "Date:                Thu, 18 May 2023   Prob (F-statistic):               0.00\n",
            "Time:                        17:54:40   Log-Likelihood:                -49205.\n",
            "No. Observations:               10534   AIC:                         9.841e+04\n",
            "Df Residuals:                   10532   BIC:                         9.843e+04\n",
            "Df Model:                           1                                         \n",
            "Covariance Type:            nonrobust                                         \n",
            "==============================================================================\n",
            "                 coef    std err          t      P>|t|      [0.025      0.975]\n",
            "------------------------------------------------------------------------------\n",
            "const        -21.6986      0.504    -43.081      0.000     -22.686     -20.711\n",
            "x1             0.0070   8.28e-05     84.142      0.000       0.007       0.007\n",
            "==============================================================================\n",
            "Omnibus:                     5532.329   Durbin-Watson:                   0.001\n",
            "Prob(Omnibus):                  0.000   Jarque-Bera (JB):            36008.712\n",
            "Skew:                           2.511   Prob(JB):                         0.00\n",
            "Kurtosis:                      10.538   Cond. No.                     1.22e+04\n",
            "==============================================================================\n",
            "\n",
            "Notes:\n",
            "[1] Standard Errors assume that the covariance matrix of the errors is correctly specified.\n",
            "[2] The condition number is large, 1.22e+04. This might indicate that there are\n",
            "strong multicollinearity or other numerical problems.\n"
          ]
        }
      ],
      "source": [
        "lin_reg = sm.OLS(y, X).fit()\n",
        "print(lin_reg.summary())"
      ]
    },
    {
      "attachments": {},
      "cell_type": "markdown",
      "id": "fkXcx13M1__S",
      "metadata": {
        "id": "fkXcx13M1__S"
      },
      "source": [
        "\n",
        "\n",
        "Calculate the parameter $\\mathbf{w}$ using `params` method."
      ]
    },
    {
      "cell_type": "code",
      "execution_count": 17,
      "id": "eMGkSzav1__S",
      "metadata": {
        "id": "eMGkSzav1__S",
        "outputId": "2ee4476d-fd1d-4b6b-a351-bc30a9d61fb0"
      },
      "outputs": [
        {
          "data": {
            "text/plain": [
              "array([-2.16985532e+01,  6.96875866e-03])"
            ]
          },
          "execution_count": 17,
          "metadata": {},
          "output_type": "execute_result"
        }
      ],
      "source": [
        "lin_reg.params # w_0, w_1"
      ]
    },
    {
      "cell_type": "code",
      "execution_count": 18,
      "id": "J-ZcETOT1__S",
      "metadata": {
        "id": "J-ZcETOT1__S"
      },
      "outputs": [],
      "source": [
        "intercept=lin_reg.params[0]\n",
        "coef = lin_reg.params[1]"
      ]
    },
    {
      "cell_type": "code",
      "execution_count": 19,
      "id": "CHNFv0lz1__S",
      "metadata": {
        "id": "CHNFv0lz1__S",
        "outputId": "a877b3c5-350b-4ab1-ad90-30aa54dac1e0"
      },
      "outputs": [
        {
          "data": {
            "text/plain": [
              "-21.698553153855585"
            ]
          },
          "execution_count": 19,
          "metadata": {},
          "output_type": "execute_result"
        }
      ],
      "source": [
        "intercept"
      ]
    },
    {
      "cell_type": "code",
      "execution_count": 20,
      "id": "3PK_-Ccr1__S",
      "metadata": {
        "id": "3PK_-Ccr1__S",
        "outputId": "a3bcce17-0512-46f0-94de-57f075778536"
      },
      "outputs": [
        {
          "data": {
            "text/plain": [
              "0.006968758659242058"
            ]
          },
          "execution_count": 20,
          "metadata": {},
          "output_type": "execute_result"
        }
      ],
      "source": [
        "coef"
      ]
    },
    {
      "attachments": {},
      "cell_type": "markdown",
      "id": "GKztnjj81__S",
      "metadata": {
        "id": "GKztnjj81__S"
      },
      "source": [
        "Finally, $$y=12.600+0.062 x$$ is obtained."
      ]
    },
    {
      "attachments": {},
      "cell_type": "markdown",
      "id": "67H_uUsZ1__S",
      "metadata": {
        "id": "67H_uUsZ1__S"
      },
      "source": [
        "### Plot Linear Regression Results"
      ]
    },
    {
      "attachments": {},
      "cell_type": "markdown",
      "id": "-oD8H0qu1__S",
      "metadata": {
        "id": "-oD8H0qu1__S"
      },
      "source": [
        "\n",
        "Use the `predict` method to calculate the model prediction for input x\n",
        "\n",
        "* Plot with your data"
      ]
    },
    {
      "cell_type": "code",
      "execution_count": 21,
      "id": "7KQVyawN1__T",
      "metadata": {
        "id": "7KQVyawN1__T",
        "outputId": "4d531228-2f25-4d6e-d60d-85ed250a0b0a"
      },
      "outputs": [
        {
          "data": {
            "image/png": "[encoded data removed]",
            "text/plain": [
              "<Figure size 640x480 with 1 Axes>"
            ]
          },
          "metadata": {},
          "output_type": "display_data"
        }
      ],
      "source": [
        "plt.plot(x,y,label='AAPL Open') # original data\n",
        "\n",
        "y_hat = lin_reg.predict(X)\n",
        "plt.plot(x,y_hat,label='Linear Regression Line') # regression line\n",
        "\n",
        "plt.xlabel('Time')\n",
        "plt.ylabel('Open Price')\n",
        "plt.legend();"
      ]
    },
    {
      "attachments": {},
      "cell_type": "markdown",
      "id": "gB9WY5Bm1__T",
      "metadata": {
        "id": "gB9WY5Bm1__T"
      },
      "source": [
        "### Linear Regression MSE"
      ]
    },
    {
      "attachments": {},
      "cell_type": "markdown",
      "id": "x5mp4qPo1__T",
      "metadata": {
        "id": "x5mp4qPo1__T"
      },
      "source": [
        "\n",
        "Calculate Mean Squared Error (MSE) of model using `mse_resid` method."
      ]
    },
    {
      "cell_type": "code",
      "execution_count": 22,
      "id": "D34Ntm7N1__T",
      "metadata": {
        "id": "D34Ntm7N1__T",
        "outputId": "166da715-d313-474a-8831-10c572ccc28d"
      },
      "outputs": [
        {
          "data": {
            "text/plain": [
              "668.1587602478692"
            ]
          },
          "execution_count": 22,
          "metadata": {},
          "output_type": "execute_result"
        }
      ],
      "source": [
        "# MSE\n",
        "lin_reg.mse_resid"
      ]
    }
  ],
  "metadata": {
    "colab": {
      "collapsed_sections": [
        "KVCEZK2I1__P",
        "9Qpk_jz61__Q",
        "oPJDZWnN1__Q"
      ],
      "provenance": []
    },
    "kernelspec": {
      "display_name": "Python 3.10.5 64-bit",
      "language": "python",
      "name": "python3"
    },
    "language_info": {
      "codemirror_mode": {
        "name": "ipython",
        "version": 3
      },
      "file_extension": ".py",
      "mimetype": "text/x-python",
      "name": "python",
      "nbconvert_exporter": "python",
      "pygments_lexer": "ipython3",
      "version": "3.10.8"
    },
    "toc": {
      "base_numbering": 1,
      "nav_menu": {},
      "number_sections": true,
      "sideBar": true,
      "skip_h1_title": true,
      "title_cell": "Table of Contents",
      "title_sidebar": "Contents",
      "toc_cell": true,
      "toc_position": {},
      "toc_section_display": true,
      "toc_window_display": true
    },
    "vscode": {
      "interpreter": {
        "hash": "ccc6de1488471e06c9d5e31c0429e261d1800f1d7e89d2575b7917c6c3d0b39e"
      }
    }
  },
  "nbformat": 4,
  "nbformat_minor": 5
}
